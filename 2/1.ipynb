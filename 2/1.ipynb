{
 "cells": [
  {
   "cell_type": "code",
   "execution_count": 10,
   "metadata": {},
   "outputs": [
    {
     "ename": "AttributeError",
     "evalue": "'NoneType' object has no attribute 'text'",
     "output_type": "error",
     "traceback": [
      "\u001b[1;31m---------------------------------------------------------------------------\u001b[0m",
      "\u001b[1;31mAttributeError\u001b[0m                            Traceback (most recent call last)",
      "Cell \u001b[1;32mIn[10], line 9\u001b[0m\n\u001b[0;32m      6\u001b[0m response \u001b[38;5;241m=\u001b[39m requests\u001b[38;5;241m.\u001b[39mget(url)\n\u001b[0;32m      7\u001b[0m soup \u001b[38;5;241m=\u001b[39m BeautifulSoup(response\u001b[38;5;241m.\u001b[39mcontent, \u001b[38;5;124m'\u001b[39m\u001b[38;5;124mhtml.parser\u001b[39m\u001b[38;5;124m'\u001b[39m)\n\u001b[1;32m----> 9\u001b[0m title \u001b[38;5;241m=\u001b[39m \u001b[43msoup\u001b[49m\u001b[38;5;241;43m.\u001b[39;49m\u001b[43mfind\u001b[49m\u001b[43m(\u001b[49m\u001b[38;5;124;43m'\u001b[39;49m\u001b[38;5;124;43mh1\u001b[39;49m\u001b[38;5;124;43m'\u001b[39;49m\u001b[43m)\u001b[49m\u001b[38;5;241;43m.\u001b[39;49m\u001b[43mtext\u001b[49m  \n\u001b[0;32m     10\u001b[0m description \u001b[38;5;241m=\u001b[39m soup\u001b[38;5;241m.\u001b[39mfind(\u001b[38;5;124m'\u001b[39m\u001b[38;5;124mp\u001b[39m\u001b[38;5;124m'\u001b[39m)\n",
      "\u001b[1;31mAttributeError\u001b[0m: 'NoneType' object has no attribute 'text'"
     ]
    }
   ],
   "source": [
    "import requests\n",
    "from bs4 import BeautifulSoup\n",
    "import time\n",
    "\n",
    "url = \"http://pubserver.cherr.cc/\"\n",
    "response = requests.get(url)\n",
    "soup = BeautifulSoup(response.content, 'html.parser')\n",
    "\n",
    "title = soup.find('h1').text  \n",
    "description = soup.find('p')\n"
   ]
  },
  {
   "cell_type": "code",
   "execution_count": 6,
   "metadata": {},
   "outputs": [
    {
     "data": {
      "text/plain": [
       "<p>一束光照亮了上帝，以为是信仰，没想到是我捏的闪</p>"
      ]
     },
     "execution_count": 6,
     "metadata": {},
     "output_type": "execute_result"
    }
   ],
   "source": [
    "description"
   ]
  },
  {
   "cell_type": "code",
   "execution_count": 7,
   "metadata": {},
   "outputs": [],
   "source": [
    "description = soup.find('p').text.strip()"
   ]
  },
  {
   "cell_type": "code",
   "execution_count": 8,
   "metadata": {},
   "outputs": [
    {
     "data": {
      "text/plain": [
       "'一束光照亮了上帝，以为是信仰，没想到是我捏的闪'"
      ]
     },
     "execution_count": 8,
     "metadata": {},
     "output_type": "execute_result"
    }
   ],
   "source": [
    "description"
   ]
  },
  {
   "cell_type": "code",
   "execution_count": 9,
   "metadata": {},
   "outputs": [
    {
     "ename": "AttributeError",
     "evalue": "'NoneType' object has no attribute 'text'",
     "output_type": "error",
     "traceback": [
      "\u001b[1;31m---------------------------------------------------------------------------\u001b[0m",
      "\u001b[1;31mAttributeError\u001b[0m                            Traceback (most recent call last)",
      "Cell \u001b[1;32mIn[9], line 48\u001b[0m\n\u001b[0;32m     46\u001b[0m \u001b[38;5;66;03m# 运行爬虫\u001b[39;00m\n\u001b[0;32m     47\u001b[0m url \u001b[38;5;241m=\u001b[39m \u001b[38;5;124m\"\u001b[39m\u001b[38;5;124mhttp://pubserver.cherr.cc/\u001b[39m\u001b[38;5;124m\"\u001b[39m  \u001b[38;5;66;03m# 替换为你的网站 URL\u001b[39;00m\n\u001b[1;32m---> 48\u001b[0m \u001b[43mscrape_website\u001b[49m\u001b[43m(\u001b[49m\u001b[43murl\u001b[49m\u001b[43m)\u001b[49m\n",
      "Cell \u001b[1;32mIn[9], line 17\u001b[0m, in \u001b[0;36mscrape_website\u001b[1;34m(url)\u001b[0m\n\u001b[0;32m     14\u001b[0m soup \u001b[38;5;241m=\u001b[39m BeautifulSoup(response\u001b[38;5;241m.\u001b[39mcontent, \u001b[38;5;124m'\u001b[39m\u001b[38;5;124mhtml.parser\u001b[39m\u001b[38;5;124m'\u001b[39m)\n\u001b[0;32m     16\u001b[0m \u001b[38;5;66;03m# 提取标题\u001b[39;00m\n\u001b[1;32m---> 17\u001b[0m title \u001b[38;5;241m=\u001b[39m \u001b[43msoup\u001b[49m\u001b[38;5;241;43m.\u001b[39;49m\u001b[43mfind\u001b[49m\u001b[43m(\u001b[49m\u001b[38;5;124;43m'\u001b[39;49m\u001b[38;5;124;43mtitle\u001b[39;49m\u001b[38;5;124;43m'\u001b[39;49m\u001b[43m)\u001b[49m\u001b[38;5;241;43m.\u001b[39;49m\u001b[43mtext\u001b[49m\u001b[38;5;241m.\u001b[39mstrip()\n\u001b[0;32m     18\u001b[0m \u001b[38;5;28mprint\u001b[39m(\u001b[38;5;124m\"\u001b[39m\u001b[38;5;124m标题:\u001b[39m\u001b[38;5;124m\"\u001b[39m, title)\n\u001b[0;32m     20\u001b[0m \u001b[38;5;66;03m# 提取主内容\u001b[39;00m\n",
      "\u001b[1;31mAttributeError\u001b[0m: 'NoneType' object has no attribute 'text'"
     ]
    }
   ],
   "source": [
    "import requests\n",
    "from bs4 import BeautifulSoup\n",
    "\n",
    "# 定义爬取函数\n",
    "def scrape_website(url):\n",
    "    # 发起请求\n",
    "    response = requests.get(url)\n",
    "    # 检查响应状态\n",
    "    # if response.status_code != 200:\n",
    "    #     print(f\"无法访问网页: {url},{response.status_code}\")\n",
    "    #     return\n",
    "\n",
    "    # 解析 HTML 内容\n",
    "    soup = BeautifulSoup(response.content, 'html.parser')\n",
    "\n",
    "    # 提取标题\n",
    "    title = soup.find('title').text.strip()\n",
    "    print(\"标题:\", title)\n",
    "\n",
    "    # 提取主内容\n",
    "    main_content = soup.find('h1').text.strip()\n",
    "    print(\"主内容:\", main_content)\n",
    "\n",
    "    # 提取描述\n",
    "    description = soup.find('p').text.strip()\n",
    "    print(\"描述:\", description)\n",
    "\n",
    "    # 提取所有链接\n",
    "    links = soup.find_all('a', class_='links')\n",
    "    print(\"链接:\")\n",
    "    for link in links:\n",
    "        href = link['href']\n",
    "        text = link.text.strip()\n",
    "        print(f\"{text}: {href}\")\n",
    "\n",
    "    # 保存到文本文件\n",
    "    with open('scraped_content.txt', 'a', encoding='utf-8') as f:\n",
    "        f.write(f\"标题: {title}\\n\")\n",
    "        f.write(f\"主内容: {main_content}\\n\")\n",
    "        f.write(f\"描述: {description}\\n\")\n",
    "        f.write(\"链接:\\n\")\n",
    "        for link in links:\n",
    "            f.write(f\"{link.text.strip()}: {link['href']}\\n\")\n",
    "        f.write(\"\\n\")\n",
    "\n",
    "# 运行爬虫\n",
    "url = \"http://pubserver.cherr.cc/\"  # 替换为你的网站 URL\n",
    "scrape_website(url)\n"
   ]
  }
 ],
 "metadata": {
  "kernelspec": {
   "display_name": "software",
   "language": "python",
   "name": "python3"
  },
  "language_info": {
   "codemirror_mode": {
    "name": "ipython",
    "version": 3
   },
   "file_extension": ".py",
   "mimetype": "text/x-python",
   "name": "python",
   "nbconvert_exporter": "python",
   "pygments_lexer": "ipython3",
   "version": "3.10.13"
  }
 },
 "nbformat": 4,
 "nbformat_minor": 2
}
